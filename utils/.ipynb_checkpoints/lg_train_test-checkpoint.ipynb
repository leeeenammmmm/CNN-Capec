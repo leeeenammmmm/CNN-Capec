{
 "cells": [
  {
   "cell_type": "code",
   "execution_count": 1,
   "metadata": {},
   "outputs": [],
   "source": [
    "import pandas as pd\n",
    "import numpy as np"
   ]
  },
  {
   "cell_type": "code",
   "execution_count": 2,
   "metadata": {},
   "outputs": [],
   "source": [
    "df = pd.read_csv('../data/torpeda_train_test/all.csv')"
   ]
  },
  {
   "cell_type": "code",
   "execution_count": 3,
   "metadata": {},
   "outputs": [
    {
     "data": {
      "text/html": [
       "<div>\n",
       "<table border=\"1\" class=\"dataframe\">\n",
       "  <thead>\n",
       "    <tr style=\"text-align: right;\">\n",
       "      <th></th>\n",
       "      <th>Unnamed: 0</th>\n",
       "      <th>file</th>\n",
       "      <th>id</th>\n",
       "      <th>label</th>\n",
       "      <th>method</th>\n",
       "      <th>path</th>\n",
       "      <th>query</th>\n",
       "      <th>url</th>\n",
       "    </tr>\n",
       "  </thead>\n",
       "  <tbody>\n",
       "    <tr>\n",
       "      <th>0</th>\n",
       "      <td>0</td>\n",
       "      <td>./torpeda_csv/anomalies/allAnomalies1.csv</td>\n",
       "      <td>0</td>\n",
       "      <td>anomalous</td>\n",
       "      <td>GET</td>\n",
       "      <td>/tienda</td>\n",
       "      <td>NaN</td>\n",
       "      <td>GET /tienda</td>\n",
       "    </tr>\n",
       "    <tr>\n",
       "      <th>1</th>\n",
       "      <td>1</td>\n",
       "      <td>./torpeda_csv/anomalies/allAnomalies1.csv</td>\n",
       "      <td>1</td>\n",
       "      <td>anomalous</td>\n",
       "      <td>GET</td>\n",
       "      <td>/tienda1</td>\n",
       "      <td>NaN</td>\n",
       "      <td>GET /tienda1</td>\n",
       "    </tr>\n",
       "    <tr>\n",
       "      <th>2</th>\n",
       "      <td>2</td>\n",
       "      <td>./torpeda_csv/anomalies/allAnomalies1.csv</td>\n",
       "      <td>2</td>\n",
       "      <td>anomalous</td>\n",
       "      <td>GET</td>\n",
       "      <td>/tienda1/</td>\n",
       "      <td>NaN</td>\n",
       "      <td>GET /tienda1/</td>\n",
       "    </tr>\n",
       "    <tr>\n",
       "      <th>3</th>\n",
       "      <td>3</td>\n",
       "      <td>./torpeda_csv/anomalies/allAnomalies1.csv</td>\n",
       "      <td>3</td>\n",
       "      <td>anomalous</td>\n",
       "      <td>GET</td>\n",
       "      <td>/tienda1/publico/productos.jsp</td>\n",
       "      <td>NaN</td>\n",
       "      <td>GET /tienda1/publico/productos.jsp</td>\n",
       "    </tr>\n",
       "    <tr>\n",
       "      <th>4</th>\n",
       "      <td>4</td>\n",
       "      <td>./torpeda_csv/anomalies/allAnomalies1.csv</td>\n",
       "      <td>4</td>\n",
       "      <td>anomalous</td>\n",
       "      <td>GET</td>\n",
       "      <td>/tienda1/publico/caracteristicas.jsp</td>\n",
       "      <td>id=2</td>\n",
       "      <td>GET /tienda1/publico/caracteristicas.jsp?id=2</td>\n",
       "    </tr>\n",
       "  </tbody>\n",
       "</table>\n",
       "</div>"
      ],
      "text/plain": [
       "   Unnamed: 0                                       file  id      label  \\\n",
       "0           0  ./torpeda_csv/anomalies/allAnomalies1.csv   0  anomalous   \n",
       "1           1  ./torpeda_csv/anomalies/allAnomalies1.csv   1  anomalous   \n",
       "2           2  ./torpeda_csv/anomalies/allAnomalies1.csv   2  anomalous   \n",
       "3           3  ./torpeda_csv/anomalies/allAnomalies1.csv   3  anomalous   \n",
       "4           4  ./torpeda_csv/anomalies/allAnomalies1.csv   4  anomalous   \n",
       "\n",
       "  method                                  path query  \\\n",
       "0    GET                               /tienda   NaN   \n",
       "1    GET                              /tienda1   NaN   \n",
       "2    GET                             /tienda1/   NaN   \n",
       "3    GET        /tienda1/publico/productos.jsp   NaN   \n",
       "4    GET  /tienda1/publico/caracteristicas.jsp  id=2   \n",
       "\n",
       "                                             url  \n",
       "0                                    GET /tienda  \n",
       "1                                   GET /tienda1  \n",
       "2                                  GET /tienda1/  \n",
       "3             GET /tienda1/publico/productos.jsp  \n",
       "4  GET /tienda1/publico/caracteristicas.jsp?id=2  "
      ]
     },
     "execution_count": 3,
     "metadata": {},
     "output_type": "execute_result"
    }
   ],
   "source": [
    "df.head()"
   ]
  },
  {
   "cell_type": "code",
   "execution_count": 4,
   "metadata": {},
   "outputs": [
    {
     "data": {
      "text/plain": [
       "Index(['Unnamed: 0', 'file', 'id', 'label', 'method', 'path', 'query', 'url'], dtype='object')"
      ]
     },
     "execution_count": 4,
     "metadata": {},
     "output_type": "execute_result"
    }
   ],
   "source": [
    "df.keys()"
   ]
  },
  {
   "cell_type": "code",
   "execution_count": 5,
   "metadata": {},
   "outputs": [],
   "source": [
    "idx = df['Unnamed: 0']\n",
    "url = df['url']\n",
    "label = df['label']"
   ]
  },
  {
   "cell_type": "code",
   "execution_count": 7,
   "metadata": {},
   "outputs": [],
   "source": [
    "from sklearn.feature_extraction.text import TfidfVectorizer\n",
    "from sklearn.model_selection import train_test_split\n",
    "from sklearn.linear_model import LogisticRegression\n",
    "from sklearn.metrics import accuracy_score\n",
    "from sklearn.metrics import confusion_matrix\n",
    "from sklearn.metrics import f1_score"
   ]
  },
  {
   "cell_type": "code",
   "execution_count": 8,
   "metadata": {},
   "outputs": [],
   "source": [
    "vectorizer = TfidfVectorizer(analyzer=\"char\", ngram_range=(3, 3), lowercase=False)\n",
    "y = label"
   ]
  },
  {
   "cell_type": "code",
   "execution_count": 9,
   "metadata": {},
   "outputs": [
    {
     "name": "stdout",
     "output_type": "stream",
     "text": [
      "SQLi              30109\n",
      "anomalous         11521\n",
      "normal             5854\n",
      "XSS                3373\n",
      "SSI                 316\n",
      "BufferOverflow      288\n",
      "CRLFi               229\n",
      "XPath               122\n",
      "LDAPi                52\n",
      "FormatString         29\n",
      "Name: label, dtype: int64\n",
      "---------------------------------\n",
      "SQLi              12904\n",
      "anomalous          4938\n",
      "normal             2509\n",
      "XSS                1445\n",
      "SSI                 135\n",
      "BufferOverflow      124\n",
      "CRLFi                98\n",
      "XPath                53\n",
      "LDAPi                22\n",
      "FormatString         12\n",
      "Name: label, dtype: int64\n"
     ]
    }
   ],
   "source": [
    "idx_train, idx_test, y_train, y_test = train_test_split(idx, y, test_size=0.3, stratify=y, random_state=42)\n",
    "print(pd.value_counts(y_train))\n",
    "print('---------------------------------')\n",
    "print(pd.value_counts(y_test))"
   ]
  },
  {
   "cell_type": "code",
   "execution_count": 10,
   "metadata": {},
   "outputs": [],
   "source": [
    "url_train = [url[i] for i in idx_train]\n",
    "url_test = [url[i] for i in idx_test]"
   ]
  },
  {
   "cell_type": "code",
   "execution_count": 11,
   "metadata": {},
   "outputs": [],
   "source": [
    "X_train = vectorizer.fit_transform(url_train)\n",
    "X_test = vectorizer.transform(url_test)"
   ]
  },
  {
   "cell_type": "code",
   "execution_count": 12,
   "metadata": {},
   "outputs": [
    {
     "name": "stderr",
     "output_type": "stream",
     "text": [
      "C:\\Users\\txd\\AppData\\Roaming\\Python\\Python36\\site-packages\\sklearn\\linear_model\\logistic.py:432: FutureWarning: Default solver will be changed to 'lbfgs' in 0.22. Specify a solver to silence this warning.\n",
      "  FutureWarning)\n",
      "C:\\Users\\txd\\AppData\\Roaming\\Python\\Python36\\site-packages\\sklearn\\linear_model\\logistic.py:459: FutureWarning: Default multi_class will be changed to 'auto' in 0.22. Specify the multi_class option to silence this warning.\n",
      "  \"this warning.\", FutureWarning)\n"
     ]
    },
    {
     "name": "stdout",
     "output_type": "stream",
     "text": [
      "acc Logistic Regression : 0.99\n",
      "F1  Logistic Regression : 0.99\n",
      "Confusion Matrix: \n",
      "[[  119     0     0     0     0     2     0     3     0     0]\n",
      " [    0    98     0     0     0     0     0     0     0     0]\n",
      " [    0     0     8     0     3     0     0     0     1     0]\n",
      " [    0     0     0    21     1     0     0     0     0     0]\n",
      " [    0     0     0     0 12904     0     0     0     0     0]\n",
      " [    0     0     0     0     1   125     0     1     5     3]\n",
      " [    0     0     0     0    30     3    19     1     0     0]\n",
      " [    0     0     0     0    24     0     0  1421     0     0]\n",
      " [    0     0     0     0    11     0     0     1  4901    25]\n",
      " [    0     0     0     0     4     0     0     0    17  2488]]\n"
     ]
    }
   ],
   "source": [
    "#logistic regression\n",
    "lgs = LogisticRegression()\n",
    "lgs.fit(X_train, y_train)\n",
    "y_pred = lgs.predict(X_test)\n",
    "acc_score_test = accuracy_score(y_test, y_pred)\n",
    "c_matrix = confusion_matrix(y_test, y_pred)\n",
    "f1_score_test = f1_score(y_test, y_pred, average='micro') \n",
    "\n",
    "print (\"acc Logistic Regression : %.2f\" % acc_score_test)\n",
    "print ('F1  Logistic Regression : %.2f' % f1_score_test)\n",
    "print (\"Confusion Matrix: \")\n",
    "print (c_matrix)"
   ]
  },
  {
   "cell_type": "code",
   "execution_count": 14,
   "metadata": {},
   "outputs": [],
   "source": [
    "df_train = df.iloc[idx_train]"
   ]
  },
  {
   "cell_type": "code",
   "execution_count": 15,
   "metadata": {},
   "outputs": [],
   "source": [
    "df_test = df.iloc[idx_test]"
   ]
  },
  {
   "cell_type": "code",
   "execution_count": 17,
   "metadata": {},
   "outputs": [],
   "source": [
    "df_train.to_csv('../data/torpeda_train_test//train.csv')\n",
    "df_test.to_csv('../data/torpeda_train_test//test.csv')"
   ]
  },
  {
   "cell_type": "code",
   "execution_count": 18,
   "metadata": {},
   "outputs": [],
   "source": [
    "import pickle"
   ]
  },
  {
   "cell_type": "code",
   "execution_count": 19,
   "metadata": {},
   "outputs": [],
   "source": [
    "pickle.dump(vectorizer, open(\"../model/vectorizer.pickle\", \"wb\"))\n",
    "pickle.dump(lgs, open(\"../model/lgs.pickle\", \"wb\"))"
   ]
  },
  {
   "cell_type": "code",
   "execution_count": null,
   "metadata": {},
   "outputs": [],
   "source": []
  }
 ],
 "metadata": {
  "kernelspec": {
   "display_name": "Python 3",
   "language": "python",
   "name": "python3"
  },
  "language_info": {
   "codemirror_mode": {
    "name": "ipython",
    "version": 3
   },
   "file_extension": ".py",
   "mimetype": "text/x-python",
   "name": "python",
   "nbconvert_exporter": "python",
   "pygments_lexer": "ipython3",
   "version": "3.6.5"
  }
 },
 "nbformat": 4,
 "nbformat_minor": 2
}
